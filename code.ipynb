{
 "cells": [
  {
   "cell_type": "markdown",
   "id": "8a492fed",
   "metadata": {},
   "source": [
    "Open command prompt or terminal"
   ]
  },
  {
   "cell_type": "markdown",
   "id": "e1e0fdde",
   "metadata": {},
   "source": [
    "Go to your desired directory"
   ]
  },
  {
   "cell_type": "code",
   "execution_count": null,
   "id": "b0654b94",
   "metadata": {
    "vscode": {
     "languageId": "plaintext"
    }
   },
   "outputs": [],
   "source": [
    "cd D:\\your\\desired\\directory>"
   ]
  },
  {
   "cell_type": "markdown",
   "id": "baec1c2a",
   "metadata": {},
   "source": [
    "Make new directory"
   ]
  },
  {
   "cell_type": "code",
   "execution_count": null,
   "id": "c1475976",
   "metadata": {
    "vscode": {
     "languageId": "plaintext"
    }
   },
   "outputs": [],
   "source": [
    "md GIT_training"
   ]
  },
  {
   "cell_type": "markdown",
   "id": "039c348f",
   "metadata": {},
   "source": [
    "Enter that directory"
   ]
  },
  {
   "cell_type": "code",
   "execution_count": null,
   "id": "80bcd34a",
   "metadata": {
    "vscode": {
     "languageId": "plaintext"
    }
   },
   "outputs": [],
   "source": [
    "cd GIT_training"
   ]
  },
  {
   "cell_type": "markdown",
   "id": "253f2a12",
   "metadata": {},
   "source": [
    "Make a new git"
   ]
  },
  {
   "cell_type": "code",
   "execution_count": null,
   "id": "72c14d5c",
   "metadata": {
    "vscode": {
     "languageId": "plaintext"
    }
   },
   "outputs": [],
   "source": [
    "git init"
   ]
  },
  {
   "cell_type": "markdown",
   "id": "f3f7addb",
   "metadata": {},
   "source": [
    "Check the status of your git"
   ]
  },
  {
   "cell_type": "markdown",
   "id": "c8c4cade",
   "metadata": {},
   "source": [
    "git status"
   ]
  },
  {
   "cell_type": "markdown",
   "id": "bbc619e5",
   "metadata": {},
   "source": [
    "Create a new file"
   ]
  },
  {
   "cell_type": "code",
   "execution_count": null,
   "id": "d5281f1b",
   "metadata": {
    "vscode": {
     "languageId": "plaintext"
    }
   },
   "outputs": [],
   "source": [
    "echo. > new_file.txt"
   ]
  },
  {
   "cell_type": "markdown",
   "id": "ecf2b45c",
   "metadata": {},
   "source": [
    "Create a new branch"
   ]
  },
  {
   "cell_type": "code",
   "execution_count": null,
   "id": "aea9084a",
   "metadata": {
    "vscode": {
     "languageId": "plaintext"
    }
   },
   "outputs": [],
   "source": [
    "git branch new-branch-name"
   ]
  },
  {
   "cell_type": "markdown",
   "id": "4dc029b5",
   "metadata": {},
   "source": [
    "Create and Switch to It Immediately"
   ]
  },
  {
   "cell_type": "code",
   "execution_count": null,
   "id": "dd78ef28",
   "metadata": {
    "vscode": {
     "languageId": "plaintext"
    }
   },
   "outputs": [],
   "source": [
    "git checkout -b new-branch-name"
   ]
  },
  {
   "cell_type": "markdown",
   "id": "d6483c06",
   "metadata": {},
   "source": [
    "Change the current branch to main"
   ]
  },
  {
   "cell_type": "code",
   "execution_count": null,
   "id": "d8651e8e",
   "metadata": {
    "vscode": {
     "languageId": "plaintext"
    }
   },
   "outputs": [],
   "source": [
    "git checkout main"
   ]
  },
  {
   "cell_type": "markdown",
   "id": "6c7b111c",
   "metadata": {},
   "source": [
    "Merge a branch INTO main branch"
   ]
  },
  {
   "cell_type": "code",
   "execution_count": null,
   "id": "633d438f",
   "metadata": {
    "vscode": {
     "languageId": "plaintext"
    }
   },
   "outputs": [],
   "source": [
    "git merge branch_name"
   ]
  },
  {
   "cell_type": "markdown",
   "id": "92707491",
   "metadata": {},
   "source": [
    "Delete a local branch"
   ]
  },
  {
   "cell_type": "code",
   "execution_count": null,
   "id": "00ef3823",
   "metadata": {
    "vscode": {
     "languageId": "plaintext"
    }
   },
   "outputs": [],
   "source": [
    "git branch -d branch-name"
   ]
  },
  {
   "cell_type": "markdown",
   "id": "7aca68b9",
   "metadata": {},
   "source": [
    "Delete a remote branch"
   ]
  },
  {
   "cell_type": "code",
   "execution_count": null,
   "id": "c4b7b78e",
   "metadata": {
    "vscode": {
     "languageId": "plaintext"
    }
   },
   "outputs": [],
   "source": [
    "git push origin --delete branch-name"
   ]
  },
  {
   "cell_type": "markdown",
   "id": "8a98b747",
   "metadata": {},
   "source": [
    "Stage the text file"
   ]
  },
  {
   "cell_type": "code",
   "execution_count": null,
   "id": "dc2e55fd",
   "metadata": {
    "vscode": {
     "languageId": "plaintext"
    }
   },
   "outputs": [],
   "source": [
    "git add new_file.txt"
   ]
  },
  {
   "cell_type": "markdown",
   "id": "b2000f46",
   "metadata": {},
   "source": [
    "Stage all files"
   ]
  },
  {
   "cell_type": "code",
   "execution_count": null,
   "id": "847e241a",
   "metadata": {
    "vscode": {
     "languageId": "plaintext"
    }
   },
   "outputs": [],
   "source": [
    "git add ."
   ]
  },
  {
   "cell_type": "markdown",
   "id": "05ea94ea",
   "metadata": {},
   "source": [
    "Commit one file"
   ]
  },
  {
   "cell_type": "code",
   "execution_count": null,
   "id": "9a016c4c",
   "metadata": {
    "vscode": {
     "languageId": "plaintext"
    }
   },
   "outputs": [],
   "source": [
    "git commit new_file.txt -m \"to commit one file\""
   ]
  },
  {
   "cell_type": "markdown",
   "id": "90494cc6",
   "metadata": {},
   "source": [
    "Commit all files"
   ]
  },
  {
   "cell_type": "code",
   "execution_count": null,
   "id": "3f043939",
   "metadata": {
    "vscode": {
     "languageId": "plaintext"
    }
   },
   "outputs": [],
   "source": [
    "git commit -m \"to commit all files\""
   ]
  },
  {
   "cell_type": "markdown",
   "id": "4fdad921",
   "metadata": {},
   "source": [
    "See the branch you are in"
   ]
  },
  {
   "cell_type": "code",
   "execution_count": null,
   "id": "70de87f2",
   "metadata": {
    "vscode": {
     "languageId": "plaintext"
    }
   },
   "outputs": [],
   "source": [
    "git branch"
   ]
  },
  {
   "cell_type": "markdown",
   "id": "a02528b0",
   "metadata": {},
   "source": [
    "Clone a git repository to the current directory"
   ]
  },
  {
   "cell_type": "code",
   "execution_count": null,
   "id": "34b787e1",
   "metadata": {
    "vscode": {
     "languageId": "plaintext"
    }
   },
   "outputs": [],
   "source": [
    "git clone <repo address>"
   ]
  },
  {
   "cell_type": "markdown",
   "id": "96b9f3ca",
   "metadata": {},
   "source": [
    "To connect the current git repository to a remote already existed repository"
   ]
  },
  {
   "cell_type": "code",
   "execution_count": null,
   "id": "0fdd180f",
   "metadata": {
    "vscode": {
     "languageId": "plaintext"
    }
   },
   "outputs": [],
   "source": [
    "git remote add origin https://github.com/your-username/my-project.git"
   ]
  },
  {
   "cell_type": "markdown",
   "id": "c51cbde0",
   "metadata": {},
   "source": [
    "To push files/commits to the remote Git"
   ]
  },
  {
   "cell_type": "code",
   "execution_count": null,
   "id": "1bacff72",
   "metadata": {
    "vscode": {
     "languageId": "plaintext"
    }
   },
   "outputs": [],
   "source": [
    "git push origin master"
   ]
  },
  {
   "cell_type": "markdown",
   "id": "20f0f672",
   "metadata": {},
   "source": [
    "To push files/commits to the local Git"
   ]
  },
  {
   "cell_type": "code",
   "execution_count": null,
   "id": "62c93749",
   "metadata": {
    "vscode": {
     "languageId": "plaintext"
    }
   },
   "outputs": [],
   "source": [
    "git pull origin master"
   ]
  }
 ],
 "metadata": {
  "language_info": {
   "name": "python"
  }
 },
 "nbformat": 4,
 "nbformat_minor": 5
}
